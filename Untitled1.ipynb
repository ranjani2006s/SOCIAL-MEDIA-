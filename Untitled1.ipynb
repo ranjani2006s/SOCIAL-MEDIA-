{
  "nbformat": 4,
  "nbformat_minor": 0,
  "metadata": {
    "colab": {
      "provenance": [],
      "authorship_tag": "ABX9TyMvCecevr0F9Uq/2msDvhqj",
      "include_colab_link": true
    },
    "kernelspec": {
      "name": "python3",
      "display_name": "Python 3"
    },
    "language_info": {
      "name": "python"
    }
  },
  "cells": [
    {
      "cell_type": "markdown",
      "metadata": {
        "id": "view-in-github",
        "colab_type": "text"
      },
      "source": [
        "<a href=\"https://colab.research.google.com/github/ranjani2006s/SOCIAL-MEDIA-/blob/main/Untitled1.ipynb\" target=\"_parent\"><img src=\"https://colab.research.google.com/assets/colab-badge.svg\" alt=\"Open In Colab\"/></a>"
      ]
    },
    {
      "cell_type": "code",
      "execution_count": 1,
      "metadata": {
        "colab": {
          "base_uri": "https://localhost:8080/"
        },
        "id": "Yu76HiwyxQ9x",
        "outputId": "d56df339-fd2d-4f36-ad9b-5470df439ad6"
      },
      "outputs": [
        {
          "output_type": "stream",
          "name": "stdout",
          "text": [
            "Sentiment Analysis Results:\n",
            "Comment: \"I love this new feature! Great job!\"\n",
            "Sentiment: Positive (Polarity: 0.5568181818181818)\n",
            "\n",
            "Comment: \"This app crashes too often. I hate it!\"\n",
            "Sentiment: Negative (Polarity: -1.0)\n",
            "\n",
            "Comment: \"Not bad, but could be better.\"\n",
            "Sentiment: Positive (Polarity: 0.42499999999999993)\n",
            "\n",
            "Comment: \"I'm so happy with the service today.\"\n",
            "Sentiment: Positive (Polarity: 0.8)\n",
            "\n",
            "Comment: \"Worst experience ever. Never using it again!\"\n",
            "Sentiment: Negative (Polarity: -1.0)\n",
            "\n",
            "Comment: \"Meh, it's okay I guess.\"\n",
            "Sentiment: Positive (Polarity: 0.5)\n",
            "\n"
          ]
        }
      ],
      "source": [
        "\n",
        "from textblob import TextBlob\n",
        "\n",
        "# Sample social media comments\n",
        "comments = [\n",
        "    \"I love this new feature! Great job!\",\n",
        "    \"This app crashes too often. I hate it!\",\n",
        "    \"Not bad, but could be better.\",\n",
        "    \"I'm so happy with the service today.\",\n",
        "    \"Worst experience ever. Never using it again!\",\n",
        "    \"Meh, it's okay I guess.\",\n",
        "]\n",
        "\n",
        "# Analyzing sentiment\n",
        "print(\"Sentiment Analysis Results:\")\n",
        "for comment in comments:\n",
        "    blob = TextBlob(comment)\n",
        "    polarity = blob.sentiment.polarity\n",
        "\n",
        "    # Classify sentiment\n",
        "    if polarity > 0:\n",
        "        sentiment = \"Positive\"\n",
        "    elif polarity < 0:\n",
        "        sentiment = \"Negative\"\n",
        "    else:\n",
        "        sentiment = \"Neutral\"\n",
        "\n",
        "    print(f\"Comment: \\\"{comment}\\\"\\nSentiment: {sentiment} (Polarity: {polarity})\\n\")"
      ]
    }
  ]
}